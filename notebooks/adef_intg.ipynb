{
 "cells": [
  {
   "cell_type": "markdown",
   "id": "0",
   "metadata": {},
   "source": [
    "# Configuraciones y librerias"
   ]
  },
  {
   "cell_type": "code",
   "execution_count": null,
   "id": "1",
   "metadata": {},
   "outputs": [],
   "source": [
    "# Librerias\n",
    "import os\n",
    "import time\n",
    "import geopandas as gpd\n",
    "import rioxarray as rxr\n",
    "import xarray as xr\n",
    "import numpy as np\n",
    "import pandas as pd\n",
    "import matplotlib.pyplot as plt\n",
    "import threading\n",
    "from owslib.wfs import WebFeatureService\n",
    "import warnings\n",
    "from shapely.errors import ShapelyDeprecationWarning\n",
    "import sys\n",
    "\n",
    "# Ignorar advertencias de GeoPandas relacionadas con CRS\n",
    "warnings.filterwarnings(\"ignore\", message=\"Geometry is in a geographic CRS.\")\n",
    "\n",
    "# Opcional: Ignorar advertencias de Shapely si aparecen\n",
    "warnings.filterwarnings(\"ignore\", category=ShapelyDeprecationWarning)\n",
    "\n",
    "# Agregar la ruta del directorio padre al sys.path\n",
    "file = os.path.abspath(\"adef_intg.ipynb\")\n",
    "sys.path.append(os.path.dirname(os.path.dirname(file)))\n",
    "\n",
    "from src import utils\n",
    "\n",
    "# Fechas de interes\n",
    "start_date = \"2022-01-01\"\n",
    "end_date = \"2022-12-31\"\n",
    "url_adef_intg = (\n",
    "    \"https://data-api.globalforestwatch.org/dataset/gfw_integrated_alerts/\"\n",
    "    \"latest/download/geotiff?grid=10/100000&tile_id=20N_090W&pixel_meaning=\"\n",
    "    \"date_conf&x-api-key=2d60cd88-8348-4c0f-a6d5-bd9adb585a8c\"\n",
    ")"
   ]
  },
  {
   "cell_type": "code",
   "execution_count": null,
   "id": "2",
   "metadata": {},
   "outputs": [],
   "source": [
    "start_time = time.time()\n",
    "print(\n",
    "    f\"Iniciando el procesamiento de alertas integradas a las: {time.strftime('%Y-%m-%d %H:%M:%S', time.localtime(start_time))}\"\n",
    ")"
   ]
  },
  {
   "cell_type": "markdown",
   "id": "3",
   "metadata": {},
   "source": [
    "# Preparar la data para análisis"
   ]
  },
  {
   "cell_type": "markdown",
   "id": "4",
   "metadata": {},
   "source": [
    "## Preparar los datos auxiliares"
   ]
  },
  {
   "cell_type": "code",
   "execution_count": null,
   "id": "5",
   "metadata": {},
   "outputs": [],
   "source": [
    "# Crear la conexion al servicio WFS\n",
    "url_icf_wfs = \"https://geoserver.icf.gob.hn/icfpub/wfs\"\n",
    "wfs_icf = WebFeatureService(url_icf_wfs, version=\"1.1.0\")\n",
    "\n",
    "# Obtenemos la lista de capas disponibles\n",
    "layers = wfs_icf.contents\n",
    "# for layer in layers:\n",
    "#     print(layer)"
   ]
  },
  {
   "cell_type": "code",
   "execution_count": null,
   "id": "6",
   "metadata": {},
   "outputs": [],
   "source": [
    "# Layers de interes\n",
    "lyr_dep = \"icfpub:limite_departamentos_gp\"\n",
    "dep_response = wfs_icf.getfeature(typename=lyr_dep, outputFormat=\"application/json\")\n",
    "gdf_dep = gpd.read_file(dep_response)"
   ]
  },
  {
   "cell_type": "markdown",
   "id": "7",
   "metadata": {},
   "source": [
    "## Preparar el tif por el área y fechas de interés"
   ]
  },
  {
   "cell_type": "code",
   "execution_count": null,
   "id": "8",
   "metadata": {},
   "outputs": [],
   "source": [
    "print(\"...Iniciando el enmascaramientos de las alertas integradas\")\n",
    "# Leer el tif de alertas\n",
    "tif_adef_intg = rxr.open_rasterio(url_adef_intg, lock=True, chunks=True)\n",
    "\n",
    "# Cortar por el extend de Honduras\n",
    "if gdf_dep.crs != tif_adef_intg.rio.crs:\n",
    "    gdf_dep_reproyectado = gdf_dep.to_crs(tif_adef_intg.rio.crs)\n",
    "    tif_adef_intg_hn = tif_adef_intg.rio.clip_box(*gdf_dep_reproyectado.total_bounds)\n",
    "    print(\"Se realizó clip al raster con el GeoDataFrame de departamentos reproyectado\")\n",
    "else:\n",
    "    tif_adef_intg_hn = tif_adef_intg.rio.clip_box(*gdf_dep.total_bounds)\n",
    "\n",
    "print(\"Almacenando el raster cortado en el disco\")\n",
    "tif_adef_intg_hn.rio.to_raster(\n",
    "    \"../data/adef_intg_hn.tif\", compress=\"LZW\", tiled=True, lock=threading.Lock()\n",
    ")"
   ]
  },
  {
   "cell_type": "code",
   "execution_count": null,
   "id": "9",
   "metadata": {},
   "outputs": [],
   "source": [
    "utils.mask_adef_hn_by_forest(\n",
    "    tif_forest14=\"../data/bosque14_lzw.tif\",\n",
    "    tif_forest18=\"../data/bosque18_lzw.tif\",\n",
    "    tif_forest24=\"../data/bosque24_lzw.tif\",\n",
    "    tif_adef_hn=\"../data/adef_intg_hn.tif\",\n",
    "    tif_forest14_match=\"../data/bosque14_lzw_match.tif\",\n",
    "    tif_forest18_match=\"../data/bosque18_lzw_match.tif\",\n",
    "    tif_forest24_match=\"../data/bosque24_lzw_match.tif\",\n",
    "    tif_out=\"../results/adef_intg_hn_forest_masked.tif\",\n",
    ")\n",
    "print(\"Se realizó el enmascaramiento de las alertas integradas por el bosque\")"
   ]
  },
  {
   "cell_type": "code",
   "execution_count": null,
   "id": "10",
   "metadata": {},
   "outputs": [],
   "source": [
    "print(\"...creando el vector de las alertas integradas\")\n",
    "# Crear gpkg de las alertas\n",
    "utils.tif_to_vector(\n",
    "    tif=\"../results/adef_intg_hn_forest_masked.tif\",\n",
    "    out_folder=\"../results\",\n",
    "    out_file=\"adef_intg.gpkg\",\n",
    "    layer_name=\"adef_intg_20250705\",\n",
    ")"
   ]
  },
  {
   "cell_type": "code",
   "execution_count": null,
   "id": "11",
   "metadata": {},
   "outputs": [],
   "source": [
    "# Agregar la fecha de la alerta y actualizar los datos de la capa\n",
    "gdf = gpd.read_file(\"../results/adef_intg.gpkg\", layer=\"adef_intg_20250705\")\n",
    "gdf = utils.calculate_decompose_date(gdf, \"value\", \"INTEGRATED\")\n",
    "gdf[\"confidence\"] = gdf[\"value\"] // 10000\n",
    "gdf.to_file(\n",
    "    \"../results/adef_intg.gpkg\",\n",
    "    layer=\"adef_intg_20250705\",\n",
    "    driver=\"GPKG\",\n",
    "    index=False,\n",
    ")"
   ]
  },
  {
   "cell_type": "code",
   "execution_count": null,
   "id": "12",
   "metadata": {},
   "outputs": [],
   "source": [
    "time_end = time.time()\n",
    "print(\n",
    "    f\"Finalizando el procesamiento de alertas integradas a las: {time.strftime('%Y-%m-%d %H:%M:%S', time.localtime(time_end))}\"\n",
    ")\n",
    "elapsed_time = time_end - start_time\n",
    "hours, remainder = divmod(elapsed_time, 3600)\n",
    "minutes, seconds = divmod(remainder, 60)\n",
    "print(\n",
    "    f\"El tiempo de procesamiento fue de: {int(hours)} horas, {int(minutes)} minutos y {seconds:.2f} segundos\"\n",
    ")"
   ]
  }
 ],
 "metadata": {
  "kernelspec": {
   "display_name": ".venv",
   "language": "python",
   "name": "python3"
  },
  "language_info": {
   "codemirror_mode": {
    "name": "ipython",
    "version": 3
   },
   "file_extension": ".py",
   "mimetype": "text/x-python",
   "name": "python",
   "nbconvert_exporter": "python",
   "pygments_lexer": "ipython3",
   "version": "3.12.9"
  }
 },
 "nbformat": 4,
 "nbformat_minor": 5
}
