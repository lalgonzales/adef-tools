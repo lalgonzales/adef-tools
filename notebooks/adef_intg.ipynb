{
 "cells": [
  {
   "cell_type": "markdown",
   "id": "0",
   "metadata": {},
   "source": [
    "# Configuraciones y librerias"
   ]
  },
  {
   "cell_type": "code",
   "execution_count": null,
   "id": "1",
   "metadata": {},
   "outputs": [],
   "source": [
    "# Librerias\n",
    "import geopandas as gpd\n",
    "import rioxarray as rxr\n",
    "import xarray as xr\n",
    "import numpy as np\n",
    "import pandas as pd\n",
    "import os\n",
    "import matplotlib.pyplot as plt\n",
    "import threading\n",
    "from owslib.wfs import WebFeatureService\n",
    "\n",
    "# Fechas de interes\n",
    "start_date = \"2022-01-01\"\n",
    "end_date = \"2022-12-31\"\n",
    "url_adef_intg = (\n",
    "    \"https://data-api.globalforestwatch.org/dataset/gfw_integrated_alerts/\"\n",
    "    \"latest/download/geotiff?grid=10/100000&tile_id=20N_090W&pixel_meaning=\"\n",
    "    \"date_conf&x-api-key=2d60cd88-8348-4c0f-a6d5-bd9adb585a8c\"\n",
    ")"
   ]
  },
  {
   "cell_type": "markdown",
   "id": "2",
   "metadata": {},
   "source": [
    "# Preparar la data para análisis"
   ]
  },
  {
   "cell_type": "markdown",
   "id": "3",
   "metadata": {},
   "source": [
    "## Preparar los datos auxiliares"
   ]
  },
  {
   "cell_type": "code",
   "execution_count": null,
   "id": "4",
   "metadata": {},
   "outputs": [],
   "source": [
    "# Crear la conexion al servicio WFS\n",
    "url_icf_wfs = \"https://geoserver.icf.gob.hn/icfpub/wfs\"\n",
    "wfs_icf = WebFeatureService(url_icf_wfs, version=\"1.1.0\")\n",
    "\n",
    "# Obtenemos la lista de capas disponibles\n",
    "layers = wfs_icf.contents\n",
    "layers"
   ]
  },
  {
   "cell_type": "code",
   "execution_count": null,
   "id": "5",
   "metadata": {},
   "outputs": [],
   "source": [
    "# Layers de interes"
   ]
  },
  {
   "cell_type": "markdown",
   "id": "6",
   "metadata": {},
   "source": [
    "## Leer y filtrar el tif por las fechas de interes"
   ]
  },
  {
   "cell_type": "code",
   "execution_count": null,
   "id": "7",
   "metadata": {},
   "outputs": [],
   "source": [
    "# Identificar el tiempo de análisis\n",
    "zero_day = pd.Timestamp(\"2014-12-31\")\n",
    "days_to_start = (pd.Timestamp(start_date) - zero_day).days\n",
    "days_to_end = (pd.Timestamp(end_date) - zero_day).days\n",
    "\n",
    "# Leer el tif de alertas\n",
    "tif_adef_intg = rxr.open_rasterio(url_adef_intg, lock=True, chunks=True)"
   ]
  },
  {
   "cell_type": "code",
   "execution_count": null,
   "id": "8",
   "metadata": {},
   "outputs": [],
   "source": [
    "tif_days = tif_adef_intg % 10000\n",
    "mask = (tif_days >= days_to_start) & (tif_days <= days_to_end)\n",
    "\n",
    "tif_filtered = tif_adef_intg.where(mask, drop=True)"
   ]
  },
  {
   "cell_type": "code",
   "execution_count": null,
   "id": "9",
   "metadata": {},
   "outputs": [],
   "source": []
  },
  {
   "cell_type": "code",
   "execution_count": null,
   "id": "10",
   "metadata": {},
   "outputs": [],
   "source": [
    "print(f\"Days to start: {days_to_start}\")\n",
    "print(f\"Days to end: {days_to_end}\")"
   ]
  }
 ],
 "metadata": {
  "kernelspec": {
   "display_name": ".venv",
   "language": "python",
   "name": "python3"
  },
  "language_info": {
   "codemirror_mode": {
    "name": "ipython",
    "version": 3
   },
   "file_extension": ".py",
   "mimetype": "text/x-python",
   "name": "python",
   "nbconvert_exporter": "python",
   "pygments_lexer": "ipython3",
   "version": "3.12.9"
  }
 },
 "nbformat": 4,
 "nbformat_minor": 5
}
